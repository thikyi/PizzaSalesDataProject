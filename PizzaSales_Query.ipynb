{
    "metadata": {
        "kernelspec": {
            "name": "SQL",
            "display_name": "SQL",
            "language": "sql"
        },
        "language_info": {
            "name": "sql",
            "version": ""
        }
    },
    "nbformat_minor": 2,
    "nbformat": 4,
    "cells": [
        {
            "cell_type": "code",
            "source": [
                "use pizzadata"
            ],
            "metadata": {
                "azdata_cell_guid": "0128f4b3-e49d-4334-a549-e956f0bcd3ea",
                "language": "sql"
            },
            "outputs": [
                {
                    "output_type": "display_data",
                    "data": {
                        "text/html": "Commands completed successfully."
                    },
                    "metadata": {}
                },
                {
                    "output_type": "display_data",
                    "data": {
                        "text/html": "Total execution time: 00:00:00.003"
                    },
                    "metadata": {}
                }
            ],
            "execution_count": 4
        },
        {
            "cell_type": "markdown",
            "source": [
                "<span style=\"font-family: -apple-system, BlinkMacSystemFont, sans-serif; color: var(--vscode-foreground);\"><b>KPI’s</b></span>\n",
                "\n",
                "<span style=\"color: #09885a;\">1</span>. Total Revenue:"
            ],
            "metadata": {
                "azdata_cell_guid": "80ffac8d-086b-4082-b0df-eaec7f86c9fe",
                "language": ""
            },
            "attachments": {}
        },
        {
            "cell_type": "code",
            "source": [
                "\n",
                "SELECT SUM(total_price) AS Total_Revenue FROM pizza_sales;"
            ],
            "metadata": {
                "language": "sql",
                "azdata_cell_guid": "8e10b36c-a3fc-4f2e-9dce-9fa93fad9149",
                "tags": []
            },
            "outputs": [
                {
                    "output_type": "display_data",
                    "data": {
                        "text/html": "(1 row affected)"
                    },
                    "metadata": {}
                },
                {
                    "output_type": "display_data",
                    "data": {
                        "text/html": "Total execution time: 00:00:00.047"
                    },
                    "metadata": {}
                },
                {
                    "output_type": "execute_result",
                    "metadata": {},
                    "execution_count": 5,
                    "data": {
                        "application/vnd.dataresource+json": {
                            "schema": {
                                "fields": [
                                    {
                                        "name": "Total_Revenue"
                                    }
                                ]
                            },
                            "data": [
                                {
                                    "Total_Revenue": "817860.049999993"
                                }
                            ]
                        },
                        "text/html": [
                            "<table>",
                            "<tr><th>Total_Revenue</th></tr>",
                            "<tr><td>817860.049999993</td></tr>",
                            "</table>"
                        ]
                    }
                }
            ],
            "execution_count": 5
        },
        {
            "cell_type": "markdown",
            "source": [
                "2.Average Order Value"
            ],
            "metadata": {
                "language": "",
                "azdata_cell_guid": "a91c069c-dda3-41dd-acf5-60a869c1c7ca"
            },
            "attachments": {}
        },
        {
            "cell_type": "code",
            "source": [
                "SELECT (SUM(total_price) / COUNT(DISTINCT order_id)) AS Avg_order_Value FROM pizza_sales"
            ],
            "metadata": {
                "language": "sql",
                "azdata_cell_guid": "be130e0e-ef91-4d01-9655-12e20d3a521b"
            },
            "outputs": [
                {
                    "output_type": "display_data",
                    "data": {
                        "text/html": "(1 row affected)"
                    },
                    "metadata": {}
                },
                {
                    "output_type": "display_data",
                    "data": {
                        "text/html": "Total execution time: 00:00:00.081"
                    },
                    "metadata": {}
                },
                {
                    "output_type": "execute_result",
                    "metadata": {},
                    "execution_count": 6,
                    "data": {
                        "application/vnd.dataresource+json": {
                            "schema": {
                                "fields": [
                                    {
                                        "name": "Avg_order_Value"
                                    }
                                ]
                            },
                            "data": [
                                {
                                    "Avg_order_Value": "38.307262295081664"
                                }
                            ]
                        },
                        "text/html": [
                            "<table>",
                            "<tr><th>Avg_order_Value</th></tr>",
                            "<tr><td>38.307262295081664</td></tr>",
                            "</table>"
                        ]
                    }
                }
            ],
            "execution_count": 6
        },
        {
            "cell_type": "markdown",
            "source": [
                "<span style=\"color: #09885a;\">3</span>. Total Pizzas Sold"
            ],
            "metadata": {
                "language": "sql",
                "azdata_cell_guid": "0d1268a6-15a9-474e-945b-cc340f63c42c"
            },
            "attachments": {}
        },
        {
            "cell_type": "code",
            "source": [
                "SELECT SUM(quantity) AS Total_pizza_sold FROM pizza_sales"
            ],
            "metadata": {
                "language": "sql",
                "azdata_cell_guid": "bde14744-2799-4e62-8be4-c7e4cabbe30c"
            },
            "outputs": [
                {
                    "output_type": "display_data",
                    "data": {
                        "text/html": "(1 row affected)"
                    },
                    "metadata": {}
                },
                {
                    "output_type": "display_data",
                    "data": {
                        "text/html": "Total execution time: 00:00:00.038"
                    },
                    "metadata": {}
                },
                {
                    "output_type": "execute_result",
                    "metadata": {},
                    "execution_count": 7,
                    "data": {
                        "application/vnd.dataresource+json": {
                            "schema": {
                                "fields": [
                                    {
                                        "name": "Total_pizza_sold"
                                    }
                                ]
                            },
                            "data": [
                                {
                                    "Total_pizza_sold": "49574"
                                }
                            ]
                        },
                        "text/html": [
                            "<table>",
                            "<tr><th>Total_pizza_sold</th></tr>",
                            "<tr><td>49574</td></tr>",
                            "</table>"
                        ]
                    }
                }
            ],
            "execution_count": 7
        },
        {
            "cell_type": "markdown",
            "source": [
                "<span style=\"color: #09885a;\">4</span>. Total Orders"
            ],
            "metadata": {
                "azdata_cell_guid": "ff31ee4b-67a6-40a8-b438-7e323c326268"
            },
            "attachments": {}
        },
        {
            "cell_type": "code",
            "source": [
                "SELECT COUNT(DISTINCT order_id) AS Total_Orders FROM pizza_sales\n",
                "\n",
                "\n",
                ""
            ],
            "metadata": {
                "azdata_cell_guid": "2365e81d-393f-4bce-a128-1fdf43a3c2c3",
                "language": "sql"
            },
            "outputs": [
                {
                    "output_type": "display_data",
                    "data": {
                        "text/html": "(1 row affected)"
                    },
                    "metadata": {}
                },
                {
                    "output_type": "display_data",
                    "data": {
                        "text/html": "Total execution time: 00:00:00.048"
                    },
                    "metadata": {}
                },
                {
                    "output_type": "execute_result",
                    "metadata": {},
                    "execution_count": 8,
                    "data": {
                        "application/vnd.dataresource+json": {
                            "schema": {
                                "fields": [
                                    {
                                        "name": "Total_Orders"
                                    }
                                ]
                            },
                            "data": [
                                {
                                    "Total_Orders": "21350"
                                }
                            ]
                        },
                        "text/html": [
                            "<table>",
                            "<tr><th>Total_Orders</th></tr>",
                            "<tr><td>21350</td></tr>",
                            "</table>"
                        ]
                    }
                }
            ],
            "execution_count": 8
        },
        {
            "cell_type": "markdown",
            "source": [
                "<span style=\"color: #09885a;\">5</span>. Average Pizzas Per <span style=\"color: #0000ff;\">Order</span>"
            ],
            "metadata": {
                "language": "sql",
                "azdata_cell_guid": "3b5d5266-8f15-4e4d-9c96-068fc2ae6d1c"
            },
            "attachments": {}
        },
        {
            "cell_type": "code",
            "source": [
                "SELECT CAST(CAST(SUM(quantity) AS DECIMAL(10,2)) / \n",
                "CAST(COUNT(DISTINCT order_id) AS DECIMAL(10,2)) AS DECIMAL(10,2))\n",
                "AS Avg_Pizzas_per_order\n",
                "FROM pizza_sales"
            ],
            "metadata": {
                "language": "sql",
                "azdata_cell_guid": "18129f37-78f8-435a-9097-870472de176d"
            },
            "outputs": [
                {
                    "output_type": "display_data",
                    "data": {
                        "text/html": "(1 row affected)"
                    },
                    "metadata": {}
                },
                {
                    "output_type": "display_data",
                    "data": {
                        "text/html": "Total execution time: 00:00:00.082"
                    },
                    "metadata": {}
                },
                {
                    "output_type": "execute_result",
                    "metadata": {},
                    "execution_count": 9,
                    "data": {
                        "application/vnd.dataresource+json": {
                            "schema": {
                                "fields": [
                                    {
                                        "name": "Avg_Pizzas_per_order"
                                    }
                                ]
                            },
                            "data": [
                                {
                                    "Avg_Pizzas_per_order": "2.32"
                                }
                            ]
                        },
                        "text/html": [
                            "<table>",
                            "<tr><th>Avg_Pizzas_per_order</th></tr>",
                            "<tr><td>2.32</td></tr>",
                            "</table>"
                        ]
                    }
                }
            ],
            "execution_count": 9
        },
        {
            "cell_type": "markdown",
            "source": [
                "**Hourly Trend <span style=\"color: #0000ff;\">for</span> Total Pizzas Sold**"
            ],
            "metadata": {
                "azdata_cell_guid": "936a3dd5-f2a3-4266-a12b-b1ba58a4fa24"
            },
            "attachments": {}
        },
        {
            "cell_type": "code",
            "source": [
                "SELECT DATEPART(HOUR, order_time) as order_hours, SUM(quantity) as total_pizzas_sold\n",
                "from pizza_sales\n",
                "group by DATEPART(HOUR, order_time)\n",
                "order by DATEPART(HOUR, order_time)\n",
                ""
            ],
            "metadata": {
                "azdata_cell_guid": "508bb329-5f03-4079-aadc-f78b170c4605",
                "language": "sql"
            },
            "outputs": [
                {
                    "output_type": "display_data",
                    "data": {
                        "text/html": "(15 rows affected)"
                    },
                    "metadata": {}
                },
                {
                    "output_type": "display_data",
                    "data": {
                        "text/html": "Total execution time: 00:00:00.047"
                    },
                    "metadata": {}
                },
                {
                    "output_type": "execute_result",
                    "metadata": {},
                    "execution_count": 10,
                    "data": {
                        "application/vnd.dataresource+json": {
                            "schema": {
                                "fields": [
                                    {
                                        "name": "order_hours"
                                    },
                                    {
                                        "name": "total_pizzas_sold"
                                    }
                                ]
                            },
                            "data": [
                                {
                                    "order_hours": "9",
                                    "total_pizzas_sold": "4"
                                },
                                {
                                    "order_hours": "10",
                                    "total_pizzas_sold": "18"
                                },
                                {
                                    "order_hours": "11",
                                    "total_pizzas_sold": "2728"
                                },
                                {
                                    "order_hours": "12",
                                    "total_pizzas_sold": "6776"
                                },
                                {
                                    "order_hours": "13",
                                    "total_pizzas_sold": "6413"
                                },
                                {
                                    "order_hours": "14",
                                    "total_pizzas_sold": "3613"
                                },
                                {
                                    "order_hours": "15",
                                    "total_pizzas_sold": "3216"
                                },
                                {
                                    "order_hours": "16",
                                    "total_pizzas_sold": "4239"
                                },
                                {
                                    "order_hours": "17",
                                    "total_pizzas_sold": "5211"
                                },
                                {
                                    "order_hours": "18",
                                    "total_pizzas_sold": "5417"
                                },
                                {
                                    "order_hours": "19",
                                    "total_pizzas_sold": "4406"
                                },
                                {
                                    "order_hours": "20",
                                    "total_pizzas_sold": "3534"
                                },
                                {
                                    "order_hours": "21",
                                    "total_pizzas_sold": "2545"
                                },
                                {
                                    "order_hours": "22",
                                    "total_pizzas_sold": "1386"
                                },
                                {
                                    "order_hours": "23",
                                    "total_pizzas_sold": "68"
                                }
                            ]
                        },
                        "text/html": [
                            "<table>",
                            "<tr><th>order_hours</th><th>total_pizzas_sold</th></tr>",
                            "<tr><td>9</td><td>4</td></tr>",
                            "<tr><td>10</td><td>18</td></tr>",
                            "<tr><td>11</td><td>2728</td></tr>",
                            "<tr><td>12</td><td>6776</td></tr>",
                            "<tr><td>13</td><td>6413</td></tr>",
                            "<tr><td>14</td><td>3613</td></tr>",
                            "<tr><td>15</td><td>3216</td></tr>",
                            "<tr><td>16</td><td>4239</td></tr>",
                            "<tr><td>17</td><td>5211</td></tr>",
                            "<tr><td>18</td><td>5417</td></tr>",
                            "<tr><td>19</td><td>4406</td></tr>",
                            "<tr><td>20</td><td>3534</td></tr>",
                            "<tr><td>21</td><td>2545</td></tr>",
                            "<tr><td>22</td><td>1386</td></tr>",
                            "<tr><td>23</td><td>68</td></tr>",
                            "</table>"
                        ]
                    }
                }
            ],
            "execution_count": 10
        },
        {
            "cell_type": "markdown",
            "source": [
                "**Weekly Trend <span style=\"color: #0000ff;\">for</span> Orders**"
            ],
            "metadata": {
                "azdata_cell_guid": "c5c012fe-50d6-4b66-ada6-486a7a4077d6"
            },
            "attachments": {}
        },
        {
            "cell_type": "code",
            "source": [
                "SELECT \n",
                "    DATEPART(ISO_WEEK, order_date) AS WeekNumber,\n",
                "    YEAR(order_date) AS Year,\n",
                "    COUNT(DISTINCT order_id) AS Total_orders\n",
                "FROM \n",
                "    pizza_sales\n",
                "GROUP BY \n",
                "    DATEPART(ISO_WEEK, order_date),\n",
                "    YEAR(order_date)\n",
                "ORDER BY \n",
                "    Year, WeekNumber;"
            ],
            "metadata": {
                "azdata_cell_guid": "e73387c9-0113-4f47-9d77-d8515f2e6cea",
                "language": "sql"
            },
            "outputs": [
                {
                    "output_type": "display_data",
                    "data": {
                        "text/html": "(53 rows affected)"
                    },
                    "metadata": {}
                },
                {
                    "output_type": "display_data",
                    "data": {
                        "text/html": "Total execution time: 00:00:00.096"
                    },
                    "metadata": {}
                },
                {
                    "output_type": "execute_result",
                    "metadata": {},
                    "execution_count": 11,
                    "data": {
                        "application/vnd.dataresource+json": {
                            "schema": {
                                "fields": [
                                    {
                                        "name": "WeekNumber"
                                    },
                                    {
                                        "name": "Year"
                                    },
                                    {
                                        "name": "Total_orders"
                                    }
                                ]
                            },
                            "data": [
                                {
                                    "WeekNumber": "1",
                                    "Year": "2015",
                                    "Total_orders": "254"
                                },
                                {
                                    "WeekNumber": "2",
                                    "Year": "2015",
                                    "Total_orders": "427"
                                },
                                {
                                    "WeekNumber": "3",
                                    "Year": "2015",
                                    "Total_orders": "400"
                                },
                                {
                                    "WeekNumber": "4",
                                    "Year": "2015",
                                    "Total_orders": "415"
                                },
                                {
                                    "WeekNumber": "5",
                                    "Year": "2015",
                                    "Total_orders": "436"
                                },
                                {
                                    "WeekNumber": "6",
                                    "Year": "2015",
                                    "Total_orders": "422"
                                },
                                {
                                    "WeekNumber": "7",
                                    "Year": "2015",
                                    "Total_orders": "423"
                                },
                                {
                                    "WeekNumber": "8",
                                    "Year": "2015",
                                    "Total_orders": "393"
                                },
                                {
                                    "WeekNumber": "9",
                                    "Year": "2015",
                                    "Total_orders": "409"
                                },
                                {
                                    "WeekNumber": "10",
                                    "Year": "2015",
                                    "Total_orders": "420"
                                },
                                {
                                    "WeekNumber": "11",
                                    "Year": "2015",
                                    "Total_orders": "404"
                                },
                                {
                                    "WeekNumber": "12",
                                    "Year": "2015",
                                    "Total_orders": "416"
                                },
                                {
                                    "WeekNumber": "13",
                                    "Year": "2015",
                                    "Total_orders": "427"
                                },
                                {
                                    "WeekNumber": "14",
                                    "Year": "2015",
                                    "Total_orders": "433"
                                },
                                {
                                    "WeekNumber": "15",
                                    "Year": "2015",
                                    "Total_orders": "408"
                                },
                                {
                                    "WeekNumber": "16",
                                    "Year": "2015",
                                    "Total_orders": "414"
                                },
                                {
                                    "WeekNumber": "17",
                                    "Year": "2015",
                                    "Total_orders": "437"
                                },
                                {
                                    "WeekNumber": "18",
                                    "Year": "2015",
                                    "Total_orders": "423"
                                },
                                {
                                    "WeekNumber": "19",
                                    "Year": "2015",
                                    "Total_orders": "399"
                                },
                                {
                                    "WeekNumber": "20",
                                    "Year": "2015",
                                    "Total_orders": "458"
                                },
                                {
                                    "WeekNumber": "21",
                                    "Year": "2015",
                                    "Total_orders": "414"
                                },
                                {
                                    "WeekNumber": "22",
                                    "Year": "2015",
                                    "Total_orders": "390"
                                },
                                {
                                    "WeekNumber": "23",
                                    "Year": "2015",
                                    "Total_orders": "423"
                                },
                                {
                                    "WeekNumber": "24",
                                    "Year": "2015",
                                    "Total_orders": "418"
                                },
                                {
                                    "WeekNumber": "25",
                                    "Year": "2015",
                                    "Total_orders": "410"
                                },
                                {
                                    "WeekNumber": "26",
                                    "Year": "2015",
                                    "Total_orders": "416"
                                },
                                {
                                    "WeekNumber": "27",
                                    "Year": "2015",
                                    "Total_orders": "474"
                                },
                                {
                                    "WeekNumber": "28",
                                    "Year": "2015",
                                    "Total_orders": "417"
                                },
                                {
                                    "WeekNumber": "29",
                                    "Year": "2015",
                                    "Total_orders": "420"
                                },
                                {
                                    "WeekNumber": "30",
                                    "Year": "2015",
                                    "Total_orders": "433"
                                },
                                {
                                    "WeekNumber": "31",
                                    "Year": "2015",
                                    "Total_orders": "419"
                                },
                                {
                                    "WeekNumber": "32",
                                    "Year": "2015",
                                    "Total_orders": "426"
                                },
                                {
                                    "WeekNumber": "33",
                                    "Year": "2015",
                                    "Total_orders": "435"
                                },
                                {
                                    "WeekNumber": "34",
                                    "Year": "2015",
                                    "Total_orders": "407"
                                },
                                {
                                    "WeekNumber": "35",
                                    "Year": "2015",
                                    "Total_orders": "394"
                                },
                                {
                                    "WeekNumber": "36",
                                    "Year": "2015",
                                    "Total_orders": "397"
                                },
                                {
                                    "WeekNumber": "37",
                                    "Year": "2015",
                                    "Total_orders": "435"
                                },
                                {
                                    "WeekNumber": "38",
                                    "Year": "2015",
                                    "Total_orders": "423"
                                },
                                {
                                    "WeekNumber": "39",
                                    "Year": "2015",
                                    "Total_orders": "288"
                                },
                                {
                                    "WeekNumber": "40",
                                    "Year": "2015",
                                    "Total_orders": "433"
                                },
                                {
                                    "WeekNumber": "41",
                                    "Year": "2015",
                                    "Total_orders": "334"
                                },
                                {
                                    "WeekNumber": "42",
                                    "Year": "2015",
                                    "Total_orders": "386"
                                },
                                {
                                    "WeekNumber": "43",
                                    "Year": "2015",
                                    "Total_orders": "352"
                                },
                                {
                                    "WeekNumber": "44",
                                    "Year": "2015",
                                    "Total_orders": "371"
                                },
                                {
                                    "WeekNumber": "45",
                                    "Year": "2015",
                                    "Total_orders": "394"
                                },
                                {
                                    "WeekNumber": "46",
                                    "Year": "2015",
                                    "Total_orders": "400"
                                },
                                {
                                    "WeekNumber": "47",
                                    "Year": "2015",
                                    "Total_orders": "392"
                                },
                                {
                                    "WeekNumber": "48",
                                    "Year": "2015",
                                    "Total_orders": "491"
                                },
                                {
                                    "WeekNumber": "49",
                                    "Year": "2015",
                                    "Total_orders": "424"
                                },
                                {
                                    "WeekNumber": "50",
                                    "Year": "2015",
                                    "Total_orders": "417"
                                },
                                {
                                    "WeekNumber": "51",
                                    "Year": "2015",
                                    "Total_orders": "430"
                                },
                                {
                                    "WeekNumber": "52",
                                    "Year": "2015",
                                    "Total_orders": "298"
                                },
                                {
                                    "WeekNumber": "53",
                                    "Year": "2015",
                                    "Total_orders": "171"
                                }
                            ]
                        },
                        "text/html": [
                            "<table>",
                            "<tr><th>WeekNumber</th><th>Year</th><th>Total_orders</th></tr>",
                            "<tr><td>1</td><td>2015</td><td>254</td></tr>",
                            "<tr><td>2</td><td>2015</td><td>427</td></tr>",
                            "<tr><td>3</td><td>2015</td><td>400</td></tr>",
                            "<tr><td>4</td><td>2015</td><td>415</td></tr>",
                            "<tr><td>5</td><td>2015</td><td>436</td></tr>",
                            "<tr><td>6</td><td>2015</td><td>422</td></tr>",
                            "<tr><td>7</td><td>2015</td><td>423</td></tr>",
                            "<tr><td>8</td><td>2015</td><td>393</td></tr>",
                            "<tr><td>9</td><td>2015</td><td>409</td></tr>",
                            "<tr><td>10</td><td>2015</td><td>420</td></tr>",
                            "<tr><td>11</td><td>2015</td><td>404</td></tr>",
                            "<tr><td>12</td><td>2015</td><td>416</td></tr>",
                            "<tr><td>13</td><td>2015</td><td>427</td></tr>",
                            "<tr><td>14</td><td>2015</td><td>433</td></tr>",
                            "<tr><td>15</td><td>2015</td><td>408</td></tr>",
                            "<tr><td>16</td><td>2015</td><td>414</td></tr>",
                            "<tr><td>17</td><td>2015</td><td>437</td></tr>",
                            "<tr><td>18</td><td>2015</td><td>423</td></tr>",
                            "<tr><td>19</td><td>2015</td><td>399</td></tr>",
                            "<tr><td>20</td><td>2015</td><td>458</td></tr>",
                            "<tr><td>21</td><td>2015</td><td>414</td></tr>",
                            "<tr><td>22</td><td>2015</td><td>390</td></tr>",
                            "<tr><td>23</td><td>2015</td><td>423</td></tr>",
                            "<tr><td>24</td><td>2015</td><td>418</td></tr>",
                            "<tr><td>25</td><td>2015</td><td>410</td></tr>",
                            "<tr><td>26</td><td>2015</td><td>416</td></tr>",
                            "<tr><td>27</td><td>2015</td><td>474</td></tr>",
                            "<tr><td>28</td><td>2015</td><td>417</td></tr>",
                            "<tr><td>29</td><td>2015</td><td>420</td></tr>",
                            "<tr><td>30</td><td>2015</td><td>433</td></tr>",
                            "<tr><td>31</td><td>2015</td><td>419</td></tr>",
                            "<tr><td>32</td><td>2015</td><td>426</td></tr>",
                            "<tr><td>33</td><td>2015</td><td>435</td></tr>",
                            "<tr><td>34</td><td>2015</td><td>407</td></tr>",
                            "<tr><td>35</td><td>2015</td><td>394</td></tr>",
                            "<tr><td>36</td><td>2015</td><td>397</td></tr>",
                            "<tr><td>37</td><td>2015</td><td>435</td></tr>",
                            "<tr><td>38</td><td>2015</td><td>423</td></tr>",
                            "<tr><td>39</td><td>2015</td><td>288</td></tr>",
                            "<tr><td>40</td><td>2015</td><td>433</td></tr>",
                            "<tr><td>41</td><td>2015</td><td>334</td></tr>",
                            "<tr><td>42</td><td>2015</td><td>386</td></tr>",
                            "<tr><td>43</td><td>2015</td><td>352</td></tr>",
                            "<tr><td>44</td><td>2015</td><td>371</td></tr>",
                            "<tr><td>45</td><td>2015</td><td>394</td></tr>",
                            "<tr><td>46</td><td>2015</td><td>400</td></tr>",
                            "<tr><td>47</td><td>2015</td><td>392</td></tr>",
                            "<tr><td>48</td><td>2015</td><td>491</td></tr>",
                            "<tr><td>49</td><td>2015</td><td>424</td></tr>",
                            "<tr><td>50</td><td>2015</td><td>417</td></tr>",
                            "<tr><td>51</td><td>2015</td><td>430</td></tr>",
                            "<tr><td>52</td><td>2015</td><td>298</td></tr>",
                            "<tr><td>53</td><td>2015</td><td>171</td></tr>",
                            "</table>"
                        ]
                    }
                }
            ],
            "execution_count": 11
        },
        {
            "cell_type": "markdown",
            "source": [
                "**% <span style=\"color: #0000ff;\">of</span> Sales <span style=\"color: #0000ff;\">by</span> Pizza Category**"
            ],
            "metadata": {
                "language": "sql",
                "azdata_cell_guid": "47a79b23-6467-458c-a6d7-3a410dc24655"
            },
            "attachments": {}
        },
        {
            "cell_type": "code",
            "source": [
                "SELECT pizza_category, CAST(SUM(total_price) AS DECIMAL(10,2)) as total_revenue,\n",
                "CAST(SUM(total_price) * 100 / (SELECT SUM(total_price) from pizza_sales) AS DECIMAL(10,2)) AS PCT\n",
                "FROM pizza_sales\n",
                "GROUP BY pizza_category\n",
                "Output"
            ],
            "metadata": {
                "language": "sql",
                "azdata_cell_guid": "7e0040f3-7598-4a1f-98c9-e4daecd0533f"
            },
            "outputs": [
                {
                    "output_type": "error",
                    "evalue": "Msg 102, Level 15, State 1, Line 5\nIncorrect syntax near 'Output'.",
                    "ename": "",
                    "traceback": []
                },
                {
                    "output_type": "display_data",
                    "data": {
                        "text/html": "Total execution time: 00:00:00.002"
                    },
                    "metadata": {}
                }
            ],
            "execution_count": 12
        },
        {
            "cell_type": "markdown",
            "source": [
                "**<mark>% <span style=\"color: #0000ff;\">of</span> Sales <span style=\"color: #0000ff;\">by</span> Pizza <span style=\"color: #0000ff;\">Size</span></mark>**"
            ],
            "metadata": {
                "azdata_cell_guid": "dd98e70f-52e2-465b-905b-5374d98a5ec0"
            },
            "attachments": {}
        },
        {
            "cell_type": "code",
            "source": [
                "SELECT pizza_size, CAST(SUM(total_price) AS DECIMAL(10,2)) as total_revenue,\n",
                "CAST(SUM(total_price) * 100 / (SELECT SUM(total_price) from pizza_sales) AS DECIMAL(10,2)) AS PCT\n",
                "FROM pizza_sales\n",
                "GROUP BY pizza_size\n",
                "ORDER BY pizza_size\n",
                ""
            ],
            "metadata": {
                "azdata_cell_guid": "ebb54b48-07ee-497f-86ab-ef2fb8fc2240",
                "language": "sql"
            },
            "outputs": [
                {
                    "output_type": "display_data",
                    "data": {
                        "text/html": "(5 rows affected)"
                    },
                    "metadata": {}
                },
                {
                    "output_type": "display_data",
                    "data": {
                        "text/html": "Total execution time: 00:00:00.072"
                    },
                    "metadata": {}
                },
                {
                    "output_type": "execute_result",
                    "metadata": {},
                    "execution_count": 13,
                    "data": {
                        "application/vnd.dataresource+json": {
                            "schema": {
                                "fields": [
                                    {
                                        "name": "pizza_size"
                                    },
                                    {
                                        "name": "total_revenue"
                                    },
                                    {
                                        "name": "PCT"
                                    }
                                ]
                            },
                            "data": [
                                {
                                    "pizza_size": "L",
                                    "total_revenue": "375318.70",
                                    "PCT": "45.89"
                                },
                                {
                                    "pizza_size": "M",
                                    "total_revenue": "249382.25",
                                    "PCT": "30.49"
                                },
                                {
                                    "pizza_size": "S",
                                    "total_revenue": "178076.50",
                                    "PCT": "21.77"
                                },
                                {
                                    "pizza_size": "XL",
                                    "total_revenue": "14076.00",
                                    "PCT": "1.72"
                                },
                                {
                                    "pizza_size": "XXL",
                                    "total_revenue": "1006.60",
                                    "PCT": "0.12"
                                }
                            ]
                        },
                        "text/html": [
                            "<table>",
                            "<tr><th>pizza_size</th><th>total_revenue</th><th>PCT</th></tr>",
                            "<tr><td>L</td><td>375318.70</td><td>45.89</td></tr>",
                            "<tr><td>M</td><td>249382.25</td><td>30.49</td></tr>",
                            "<tr><td>S</td><td>178076.50</td><td>21.77</td></tr>",
                            "<tr><td>XL</td><td>14076.00</td><td>1.72</td></tr>",
                            "<tr><td>XXL</td><td>1006.60</td><td>0.12</td></tr>",
                            "</table>"
                        ]
                    }
                }
            ],
            "execution_count": 13
        },
        {
            "cell_type": "markdown",
            "source": [
                "**Total Pizzas Sold by Pizza Category**"
            ],
            "metadata": {
                "azdata_cell_guid": "f685386f-ff8b-4cf4-b997-7d241bb0b3ce",
                "language": ""
            },
            "attachments": {}
        },
        {
            "cell_type": "code",
            "source": [
                "SELECT pizza_category, SUM(quantity) as Total_Quantity_Sold\n",
                "FROM pizza_sales\n",
                "WHERE MONTH(order_date) = 2\n",
                "GROUP BY pizza_category\n",
                "ORDER BY Total_Quantity_Sold DESC\n",
                "\n",
                "\n",
                ""
            ],
            "metadata": {
                "azdata_cell_guid": "6eaea617-5548-46a6-aeb5-a246f45a5236",
                "language": "sql"
            },
            "outputs": [
                {
                    "output_type": "display_data",
                    "data": {
                        "text/html": "(4 rows affected)"
                    },
                    "metadata": {}
                },
                {
                    "output_type": "display_data",
                    "data": {
                        "text/html": "Total execution time: 00:00:00.060"
                    },
                    "metadata": {}
                },
                {
                    "output_type": "execute_result",
                    "metadata": {},
                    "execution_count": 15,
                    "data": {
                        "application/vnd.dataresource+json": {
                            "schema": {
                                "fields": [
                                    {
                                        "name": "pizza_category"
                                    },
                                    {
                                        "name": "Total_Quantity_Sold"
                                    }
                                ]
                            },
                            "data": [
                                {
                                    "pizza_category": "Classic",
                                    "Total_Quantity_Sold": "1178"
                                },
                                {
                                    "pizza_category": "Supreme",
                                    "Total_Quantity_Sold": "964"
                                },
                                {
                                    "pizza_category": "Veggie",
                                    "Total_Quantity_Sold": "944"
                                },
                                {
                                    "pizza_category": "Chicken",
                                    "Total_Quantity_Sold": "875"
                                }
                            ]
                        },
                        "text/html": [
                            "<table>",
                            "<tr><th>pizza_category</th><th>Total_Quantity_Sold</th></tr>",
                            "<tr><td>Classic</td><td>1178</td></tr>",
                            "<tr><td>Supreme</td><td>964</td></tr>",
                            "<tr><td>Veggie</td><td>944</td></tr>",
                            "<tr><td>Chicken</td><td>875</td></tr>",
                            "</table>"
                        ]
                    }
                }
            ],
            "execution_count": 15
        },
        {
            "cell_type": "markdown",
            "source": [
                "Top 5 Pizzas by Revenue"
            ],
            "metadata": {
                "azdata_cell_guid": "10ae924f-f2cf-415d-82fc-de8cf14d8dd0",
                "language": ""
            },
            "attachments": {}
        },
        {
            "cell_type": "code",
            "source": [
                "SELECT Top 5 pizza_name, SUM(total_price) AS Total_Revenue\n",
                "FROM pizza_sales\n",
                "GROUP BY pizza_name\n",
                "ORDER BY Total_Revenue DESC\n",
                "\n",
                ""
            ],
            "metadata": {
                "azdata_cell_guid": "905d8290-a9e3-46ac-b944-e9d8bdc45d35",
                "language": "sql"
            },
            "outputs": [
                {
                    "output_type": "display_data",
                    "data": {
                        "text/html": "(5 rows affected)"
                    },
                    "metadata": {}
                },
                {
                    "output_type": "display_data",
                    "data": {
                        "text/html": "Total execution time: 00:00:00.120"
                    },
                    "metadata": {}
                },
                {
                    "output_type": "execute_result",
                    "metadata": {},
                    "execution_count": 16,
                    "data": {
                        "application/vnd.dataresource+json": {
                            "schema": {
                                "fields": [
                                    {
                                        "name": "pizza_name"
                                    },
                                    {
                                        "name": "Total_Revenue"
                                    }
                                ]
                            },
                            "data": [
                                {
                                    "pizza_name": "The Thai Chicken Pizza",
                                    "Total_Revenue": "43434.25"
                                },
                                {
                                    "pizza_name": "The Barbecue Chicken Pizza",
                                    "Total_Revenue": "42768"
                                },
                                {
                                    "pizza_name": "The California Chicken Pizza",
                                    "Total_Revenue": "41409.5"
                                },
                                {
                                    "pizza_name": "The Classic Deluxe Pizza",
                                    "Total_Revenue": "38180.5"
                                },
                                {
                                    "pizza_name": "The Spicy Italian Pizza",
                                    "Total_Revenue": "34831.25"
                                }
                            ]
                        },
                        "text/html": [
                            "<table>",
                            "<tr><th>pizza_name</th><th>Total_Revenue</th></tr>",
                            "<tr><td>The Thai Chicken Pizza</td><td>43434.25</td></tr>",
                            "<tr><td>The Barbecue Chicken Pizza</td><td>42768</td></tr>",
                            "<tr><td>The California Chicken Pizza</td><td>41409.5</td></tr>",
                            "<tr><td>The Classic Deluxe Pizza</td><td>38180.5</td></tr>",
                            "<tr><td>The Spicy Italian Pizza</td><td>34831.25</td></tr>",
                            "</table>"
                        ]
                    }
                }
            ],
            "execution_count": 16
        },
        {
            "cell_type": "markdown",
            "source": [
                "Bottom 5 Pizzas by Revenue\n",
                ""
            ],
            "metadata": {
                "azdata_cell_guid": "00a0fbf7-1521-4479-9d72-fa4b0252bde5",
                "language": ""
            },
            "attachments": {}
        },
        {
            "cell_type": "code",
            "source": [
                "SELECT Top 5 pizza_name, SUM(total_price) AS Total_Revenue\n",
                "FROM pizza_sales\n",
                "GROUP BY pizza_name\n",
                "ORDER BY Total_Revenue ASC"
            ],
            "metadata": {
                "language": "sql",
                "azdata_cell_guid": "331be4de-1059-4faf-965e-8d7ca2b5ad3a",
                "tags": []
            },
            "outputs": [
                {
                    "output_type": "display_data",
                    "data": {
                        "text/html": "(5 rows affected)"
                    },
                    "metadata": {}
                },
                {
                    "output_type": "display_data",
                    "data": {
                        "text/html": "Total execution time: 00:00:00.124"
                    },
                    "metadata": {}
                },
                {
                    "output_type": "execute_result",
                    "metadata": {},
                    "execution_count": 17,
                    "data": {
                        "application/vnd.dataresource+json": {
                            "schema": {
                                "fields": [
                                    {
                                        "name": "pizza_name"
                                    },
                                    {
                                        "name": "Total_Revenue"
                                    }
                                ]
                            },
                            "data": [
                                {
                                    "pizza_name": "The Brie Carre Pizza",
                                    "Total_Revenue": "11588.4999999999"
                                },
                                {
                                    "pizza_name": "The Green Garden Pizza",
                                    "Total_Revenue": "13955.75"
                                },
                                {
                                    "pizza_name": "The Spinach Supreme Pizza",
                                    "Total_Revenue": "15277.75"
                                },
                                {
                                    "pizza_name": "The Mediterranean Pizza",
                                    "Total_Revenue": "15360.5"
                                },
                                {
                                    "pizza_name": "The Spinach Pesto Pizza",
                                    "Total_Revenue": "15596"
                                }
                            ]
                        },
                        "text/html": [
                            "<table>",
                            "<tr><th>pizza_name</th><th>Total_Revenue</th></tr>",
                            "<tr><td>The Brie Carre Pizza</td><td>11588.4999999999</td></tr>",
                            "<tr><td>The Green Garden Pizza</td><td>13955.75</td></tr>",
                            "<tr><td>The Spinach Supreme Pizza</td><td>15277.75</td></tr>",
                            "<tr><td>The Mediterranean Pizza</td><td>15360.5</td></tr>",
                            "<tr><td>The Spinach Pesto Pizza</td><td>15596</td></tr>",
                            "</table>"
                        ]
                    }
                }
            ],
            "execution_count": 17
        },
        {
            "cell_type": "markdown",
            "source": [
                "Top 5 Pizzas by Quantity\n",
                ""
            ],
            "metadata": {
                "language": "",
                "azdata_cell_guid": "270363a8-5c77-4899-b3b3-d9072642c510"
            },
            "attachments": {}
        },
        {
            "cell_type": "code",
            "source": [
                "SELECT Top 5 pizza_name, SUM(quantity) AS Total_Pizza_Sold\n",
                "FROM pizza_sales\n",
                "GROUP BY pizza_name\n",
                "ORDER BY Total_Pizza_Sold DESC"
            ],
            "metadata": {
                "language": "sql",
                "azdata_cell_guid": "3d15798b-f934-4317-ad01-742e5f7c5bac"
            },
            "outputs": [
                {
                    "output_type": "display_data",
                    "data": {
                        "text/html": "(5 rows affected)"
                    },
                    "metadata": {}
                },
                {
                    "output_type": "display_data",
                    "data": {
                        "text/html": "Total execution time: 00:00:00.111"
                    },
                    "metadata": {}
                },
                {
                    "output_type": "execute_result",
                    "metadata": {},
                    "execution_count": 18,
                    "data": {
                        "application/vnd.dataresource+json": {
                            "schema": {
                                "fields": [
                                    {
                                        "name": "pizza_name"
                                    },
                                    {
                                        "name": "Total_Pizza_Sold"
                                    }
                                ]
                            },
                            "data": [
                                {
                                    "pizza_name": "The Classic Deluxe Pizza",
                                    "Total_Pizza_Sold": "2453"
                                },
                                {
                                    "pizza_name": "The Barbecue Chicken Pizza",
                                    "Total_Pizza_Sold": "2432"
                                },
                                {
                                    "pizza_name": "The Hawaiian Pizza",
                                    "Total_Pizza_Sold": "2422"
                                },
                                {
                                    "pizza_name": "The Pepperoni Pizza",
                                    "Total_Pizza_Sold": "2418"
                                },
                                {
                                    "pizza_name": "The Thai Chicken Pizza",
                                    "Total_Pizza_Sold": "2371"
                                }
                            ]
                        },
                        "text/html": [
                            "<table>",
                            "<tr><th>pizza_name</th><th>Total_Pizza_Sold</th></tr>",
                            "<tr><td>The Classic Deluxe Pizza</td><td>2453</td></tr>",
                            "<tr><td>The Barbecue Chicken Pizza</td><td>2432</td></tr>",
                            "<tr><td>The Hawaiian Pizza</td><td>2422</td></tr>",
                            "<tr><td>The Pepperoni Pizza</td><td>2418</td></tr>",
                            "<tr><td>The Thai Chicken Pizza</td><td>2371</td></tr>",
                            "</table>"
                        ]
                    }
                }
            ],
            "execution_count": 18
        },
        {
            "cell_type": "markdown",
            "source": [
                "Bottom 5 Pizzas by Quantity\n",
                ""
            ],
            "metadata": {
                "language": "",
                "azdata_cell_guid": "9d525785-97f8-4585-8948-8e553d65fa51"
            },
            "attachments": {}
        },
        {
            "cell_type": "code",
            "source": [
                "SELECT TOP 5 pizza_name, SUM(quantity) AS Total_Pizza_Sold\n",
                "FROM pizza_sales\n",
                "GROUP BY pizza_name\n",
                "ORDER BY Total_Pizza_Sold ASC\n",
                "\n",
                ""
            ],
            "metadata": {
                "language": "sql",
                "azdata_cell_guid": "55eb3a99-4e77-4432-9156-f55fb7b089a2"
            },
            "outputs": [
                {
                    "output_type": "display_data",
                    "data": {
                        "text/html": "(5 rows affected)"
                    },
                    "metadata": {}
                },
                {
                    "output_type": "display_data",
                    "data": {
                        "text/html": "Total execution time: 00:00:00.126"
                    },
                    "metadata": {}
                },
                {
                    "output_type": "execute_result",
                    "metadata": {},
                    "execution_count": 19,
                    "data": {
                        "application/vnd.dataresource+json": {
                            "schema": {
                                "fields": [
                                    {
                                        "name": "pizza_name"
                                    },
                                    {
                                        "name": "Total_Pizza_Sold"
                                    }
                                ]
                            },
                            "data": [
                                {
                                    "pizza_name": "The Brie Carre Pizza",
                                    "Total_Pizza_Sold": "490"
                                },
                                {
                                    "pizza_name": "The Mediterranean Pizza",
                                    "Total_Pizza_Sold": "934"
                                },
                                {
                                    "pizza_name": "The Calabrese Pizza",
                                    "Total_Pizza_Sold": "937"
                                },
                                {
                                    "pizza_name": "The Spinach Supreme Pizza",
                                    "Total_Pizza_Sold": "950"
                                },
                                {
                                    "pizza_name": "The Soppressata Pizza",
                                    "Total_Pizza_Sold": "961"
                                }
                            ]
                        },
                        "text/html": [
                            "<table>",
                            "<tr><th>pizza_name</th><th>Total_Pizza_Sold</th></tr>",
                            "<tr><td>The Brie Carre Pizza</td><td>490</td></tr>",
                            "<tr><td>The Mediterranean Pizza</td><td>934</td></tr>",
                            "<tr><td>The Calabrese Pizza</td><td>937</td></tr>",
                            "<tr><td>The Spinach Supreme Pizza</td><td>950</td></tr>",
                            "<tr><td>The Soppressata Pizza</td><td>961</td></tr>",
                            "</table>"
                        ]
                    }
                }
            ],
            "execution_count": 19
        },
        {
            "cell_type": "markdown",
            "source": [
                " Top 5 Pizzas by Total Orders\n",
                ""
            ],
            "metadata": {
                "language": "",
                "azdata_cell_guid": "3716cb32-ccba-4711-a4b5-83c5ab3d8005"
            },
            "attachments": {}
        },
        {
            "cell_type": "code",
            "source": [
                "SELECT Top 5 pizza_name, COUNT(DISTINCT order_id) AS Total_Orders\n",
                "FROM pizza_sales\n",
                "GROUP BY pizza_name\n",
                "ORDER BY Total_Orders DESC\n",
                "\n",
                ""
            ],
            "metadata": {
                "language": "sql",
                "azdata_cell_guid": "65507e1d-8b18-4fd4-9983-9fedbd727440"
            },
            "outputs": [
                {
                    "output_type": "display_data",
                    "data": {
                        "text/html": "(5 rows affected)"
                    },
                    "metadata": {}
                },
                {
                    "output_type": "display_data",
                    "data": {
                        "text/html": "Total execution time: 00:00:00.335"
                    },
                    "metadata": {}
                },
                {
                    "output_type": "execute_result",
                    "metadata": {},
                    "execution_count": 20,
                    "data": {
                        "application/vnd.dataresource+json": {
                            "schema": {
                                "fields": [
                                    {
                                        "name": "pizza_name"
                                    },
                                    {
                                        "name": "Total_Orders"
                                    }
                                ]
                            },
                            "data": [
                                {
                                    "pizza_name": "The Classic Deluxe Pizza",
                                    "Total_Orders": "2329"
                                },
                                {
                                    "pizza_name": "The Hawaiian Pizza",
                                    "Total_Orders": "2280"
                                },
                                {
                                    "pizza_name": "The Pepperoni Pizza",
                                    "Total_Orders": "2278"
                                },
                                {
                                    "pizza_name": "The Barbecue Chicken Pizza",
                                    "Total_Orders": "2273"
                                },
                                {
                                    "pizza_name": "The Thai Chicken Pizza",
                                    "Total_Orders": "2225"
                                }
                            ]
                        },
                        "text/html": [
                            "<table>",
                            "<tr><th>pizza_name</th><th>Total_Orders</th></tr>",
                            "<tr><td>The Classic Deluxe Pizza</td><td>2329</td></tr>",
                            "<tr><td>The Hawaiian Pizza</td><td>2280</td></tr>",
                            "<tr><td>The Pepperoni Pizza</td><td>2278</td></tr>",
                            "<tr><td>The Barbecue Chicken Pizza</td><td>2273</td></tr>",
                            "<tr><td>The Thai Chicken Pizza</td><td>2225</td></tr>",
                            "</table>"
                        ]
                    }
                }
            ],
            "execution_count": 20
        },
        {
            "cell_type": "markdown",
            "source": [
                " Borrom 5 Pizzas by Total Orders\n",
                ""
            ],
            "metadata": {
                "language": "",
                "azdata_cell_guid": "5daf7ad4-744e-4cab-99fa-daf07ff714cb"
            },
            "attachments": {}
        },
        {
            "cell_type": "code",
            "source": [
                "SELECT Top 5 pizza_name, COUNT(DISTINCT order_id) AS Total_Orders\n",
                "FROM pizza_sales\n",
                "GROUP BY pizza_name\n",
                "ORDER BY Total_Orders ASC\n",
                "\n",
                ""
            ],
            "metadata": {
                "language": "sql",
                "azdata_cell_guid": "d9063671-05e3-4d56-9df5-e06b023c9c2e"
            },
            "outputs": [
                {
                    "output_type": "display_data",
                    "data": {
                        "text/html": "(5 rows affected)"
                    },
                    "metadata": {}
                },
                {
                    "output_type": "display_data",
                    "data": {
                        "text/html": "Total execution time: 00:00:00.298"
                    },
                    "metadata": {}
                },
                {
                    "output_type": "execute_result",
                    "metadata": {},
                    "execution_count": 21,
                    "data": {
                        "application/vnd.dataresource+json": {
                            "schema": {
                                "fields": [
                                    {
                                        "name": "pizza_name"
                                    },
                                    {
                                        "name": "Total_Orders"
                                    }
                                ]
                            },
                            "data": [
                                {
                                    "pizza_name": "The Brie Carre Pizza",
                                    "Total_Orders": "480"
                                },
                                {
                                    "pizza_name": "The Mediterranean Pizza",
                                    "Total_Orders": "912"
                                },
                                {
                                    "pizza_name": "The Calabrese Pizza",
                                    "Total_Orders": "918"
                                },
                                {
                                    "pizza_name": "The Spinach Supreme Pizza",
                                    "Total_Orders": "918"
                                },
                                {
                                    "pizza_name": "The Chicken Pesto Pizza",
                                    "Total_Orders": "938"
                                }
                            ]
                        },
                        "text/html": [
                            "<table>",
                            "<tr><th>pizza_name</th><th>Total_Orders</th></tr>",
                            "<tr><td>The Brie Carre Pizza</td><td>480</td></tr>",
                            "<tr><td>The Mediterranean Pizza</td><td>912</td></tr>",
                            "<tr><td>The Calabrese Pizza</td><td>918</td></tr>",
                            "<tr><td>The Spinach Supreme Pizza</td><td>918</td></tr>",
                            "<tr><td>The Chicken Pesto Pizza</td><td>938</td></tr>",
                            "</table>"
                        ]
                    }
                }
            ],
            "execution_count": 21
        },
        {
            "cell_type": "markdown",
            "source": [
                "NOTE :If you want to apply the pizza\\_category or pizza\\_size filters to the above queries you can use WHERE clause. Follow some of below examples"
            ],
            "metadata": {
                "language": "",
                "azdata_cell_guid": "11af2732-129f-4624-9f68-f4bac7d53131"
            },
            "attachments": {}
        },
        {
            "cell_type": "code",
            "source": [
                "SELECT Top 5 pizza_name, COUNT(DISTINCT order_id) AS Total_Orders\n",
                "FROM pizza_sales\n",
                "WHERE pizza_category = 'Classic'\n",
                "GROUP BY pizza_name\n",
                "ORDER BY Total_Orders ASC"
            ],
            "metadata": {
                "language": "sql",
                "azdata_cell_guid": "8ce3ca7c-7f71-4991-9959-4bd4f54f3ee7"
            },
            "outputs": [
                {
                    "output_type": "display_data",
                    "data": {
                        "text/html": "(5 rows affected)"
                    },
                    "metadata": {}
                },
                {
                    "output_type": "display_data",
                    "data": {
                        "text/html": "Total execution time: 00:00:00.119"
                    },
                    "metadata": {}
                },
                {
                    "output_type": "execute_result",
                    "metadata": {},
                    "execution_count": 22,
                    "data": {
                        "application/vnd.dataresource+json": {
                            "schema": {
                                "fields": [
                                    {
                                        "name": "pizza_name"
                                    },
                                    {
                                        "name": "Total_Orders"
                                    }
                                ]
                            },
                            "data": [
                                {
                                    "pizza_name": "The Pepperoni, Mushroom, and Peppers Pizza",
                                    "Total_Orders": "1316"
                                },
                                {
                                    "pizza_name": "The Greek Pizza",
                                    "Total_Orders": "1361"
                                },
                                {
                                    "pizza_name": "The Italian Capocollo Pizza",
                                    "Total_Orders": "1380"
                                },
                                {
                                    "pizza_name": "The Napolitana Pizza",
                                    "Total_Orders": "1421"
                                },
                                {
                                    "pizza_name": "The Big Meat Pizza",
                                    "Total_Orders": "1811"
                                }
                            ]
                        },
                        "text/html": [
                            "<table>",
                            "<tr><th>pizza_name</th><th>Total_Orders</th></tr>",
                            "<tr><td>The Pepperoni, Mushroom, and Peppers Pizza</td><td>1316</td></tr>",
                            "<tr><td>The Greek Pizza</td><td>1361</td></tr>",
                            "<tr><td>The Italian Capocollo Pizza</td><td>1380</td></tr>",
                            "<tr><td>The Napolitana Pizza</td><td>1421</td></tr>",
                            "<tr><td>The Big Meat Pizza</td><td>1811</td></tr>",
                            "</table>"
                        ]
                    }
                }
            ],
            "execution_count": 22
        }
    ]
}